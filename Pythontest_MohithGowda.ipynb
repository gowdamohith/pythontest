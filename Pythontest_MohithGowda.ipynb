{
  "nbformat": 4,
  "nbformat_minor": 0,
  "metadata": {
    "colab": {
      "provenance": []
    },
    "kernelspec": {
      "name": "python3",
      "display_name": "Python 3"
    },
    "language_info": {
      "name": "python"
    }
  },
  "cells": [
    {
      "cell_type": "code",
      "source": [
        "def has_unique_chars(string):\n",
        "\n",
        "    return len(string) == len(set(string))\n",
        "\n",
        "\n",
        "test_strings = [\"hello\", \"abcdef\", \"123\", \"aA\"]\n",
        "\n",
        "for s in test_strings:\n",
        "    if has_unique_chars(s):\n",
        "        print(f\"'{s}' has all unique characters\")\n",
        ""
      ],
      "metadata": {
        "colab": {
          "base_uri": "https://localhost:8080/"
        },
        "id": "Vwo-hYyQmkUr",
        "outputId": "fef47e02-7ccf-4556-8b1b-ff6a731d4be3"
      },
      "execution_count": 3,
      "outputs": [
        {
          "output_type": "stream",
          "name": "stdout",
          "text": [
            "'abcdef' has all unique characters\n",
            "'123' has all unique characters\n",
            "'aA' has all unique characters\n"
          ]
        }
      ]
    },
    {
      "cell_type": "code",
      "source": [
        "def sum_even_numbers(numbers):\n",
        "    return sum(num for num in numbers if num % 2 == 0)\n",
        "\n",
        "\n",
        "test_lists = [\n",
        "    [1, 2, 3, 4, 5, 6],    # Regular list\n",
        "    [1, 3, 5, 7],         # No evens\n",
        "    [2, 4, 6, 8],         # All evens\n",
        "    []                    # Empty list\n",
        "]\n",
        "\n",
        "for lst in test_lists:\n",
        "    result = sum_even_numbers(lst)\n",
        "    print(f\"List: {lst}\")\n",
        "    print(f\"Sum of even numbers: {result}\\n\")"
      ],
      "metadata": {
        "colab": {
          "base_uri": "https://localhost:8080/"
        },
        "id": "UBmMiTd-pc9x",
        "outputId": "c4d73a3b-fb0e-4bf7-9f99-c478498c2fa2"
      },
      "execution_count": 4,
      "outputs": [
        {
          "output_type": "stream",
          "name": "stdout",
          "text": [
            "List: [1, 2, 3, 4, 5, 6]\n",
            "Sum of even numbers: 12\n",
            "\n",
            "List: [1, 3, 5, 7]\n",
            "Sum of even numbers: 0\n",
            "\n",
            "List: [2, 4, 6, 8]\n",
            "Sum of even numbers: 20\n",
            "\n",
            "List: []\n",
            "Sum of even numbers: 0\n",
            "\n"
          ]
        }
      ]
    },
    {
      "cell_type": "code",
      "source": [
        "def is_prime(num):\n",
        "    if num <= 1:\n",
        "        return False\n",
        "    for i in range(2, num):\n",
        "        if num % i == 0:\n",
        "            return False\n",
        "    return True\n",
        "\n",
        "def find_primes(number_list):\n",
        "    primes = []\n",
        "    for num in number_list:\n",
        "        if is_prime(num):\n",
        "            primes.append(num)\n",
        "    return primes\n",
        "\n",
        "numbers = [1, 2, 3, 4, 5, 6, 7, 8, 9, 10]\n",
        "result = find_primes(numbers)\n",
        "print(\"Original list:\", numbers)\n",
        "print(\"Prime numbers:\", result)"
      ],
      "metadata": {
        "colab": {
          "base_uri": "https://localhost:8080/"
        },
        "id": "86Tp6LnwqgNj",
        "outputId": "e0798da1-ff7e-4584-bb8d-6fc1159dd3b0"
      },
      "execution_count": 5,
      "outputs": [
        {
          "output_type": "stream",
          "name": "stdout",
          "text": [
            "Original list: [1, 2, 3, 4, 5, 6, 7, 8, 9, 10]\n",
            "Prime numbers: [2, 3, 5, 7]\n"
          ]
        }
      ]
    },
    {
      "cell_type": "code",
      "source": [
        "sentence = \"the cat and the dog saw the bird\"\n",
        "word_count = {}\n",
        "\n",
        "for word in sentence.split():\n",
        "    word_count[word] = word_count.get(word, 0) + 1\n",
        "\n",
        "print(word_count)"
      ],
      "metadata": {
        "colab": {
          "base_uri": "https://localhost:8080/"
        },
        "id": "3YgxMT8Qu00E",
        "outputId": "f1042860-f326-4130-8e02-19876c502785"
      },
      "execution_count": 6,
      "outputs": [
        {
          "output_type": "stream",
          "name": "stdout",
          "text": [
            "{'the': 3, 'cat': 1, 'and': 1, 'dog': 1, 'saw': 1, 'bird': 1}\n"
          ]
        }
      ]
    }
  ]
}